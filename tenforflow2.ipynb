{
 "cells": [
  {
   "cell_type": "markdown",
   "metadata": {},
   "source": [
    "tensor 合并与分割"
   ]
  },
  {
   "cell_type": "code",
   "execution_count": 7,
   "metadata": {},
   "outputs": [
    {
     "data": {
      "text/plain": [
       "TensorShape([2, 2, 28, 28, 3])"
      ]
     },
     "execution_count": 7,
     "metadata": {},
     "output_type": "execute_result"
    }
   ],
   "source": [
    "# tensor 合并\n",
    "import tensorflow as tf\n",
    "a = tf.random.normal([2,28,28,3])\n",
    "b = tf.random.normal([2,28,28,3])\n",
    "c = tf.stack([a,b],axis=0)\n",
    "c.shape"
   ]
  },
  {
   "cell_type": "code",
   "execution_count": 11,
   "metadata": {},
   "outputs": [
    {
     "data": {
      "text/plain": [
       "TensorShape([2, 2, 24, 28, 3])"
      ]
     },
     "execution_count": 11,
     "metadata": {},
     "output_type": "execute_result"
    }
   ],
   "source": [
    "# tensor 分割\n",
    "tf.unstack(c,axis=2)[2].shape\n",
    "tf.split(c,axis=2,num_or_size_splits=[2,2,24])[2].shape"
   ]
  },
  {
   "cell_type": "code",
   "execution_count": 16,
   "metadata": {},
   "outputs": [
    {
     "data": {
      "text/plain": [
       "<tf.Tensor: shape=(2, 28, 28), dtype=float32, numpy=\n",
       "array([[[1.0116949 , 2.358744  , 1.9812249 , ..., 2.7229397 ,\n",
       "         2.6729562 , 3.19481   ],\n",
       "        [1.366163  , 2.3433883 , 2.4960175 , ..., 3.1341307 ,\n",
       "         0.83444667, 0.53098166],\n",
       "        [1.5824208 , 1.2283075 , 0.7672307 , ..., 3.2895048 ,\n",
       "         1.507713  , 1.7031783 ],\n",
       "        ...,\n",
       "        [0.9282308 , 0.55606955, 1.4724747 , ..., 2.2197413 ,\n",
       "         1.8631579 , 2.7377381 ],\n",
       "        [0.17417999, 1.212171  , 1.7572193 , ..., 1.220726  ,\n",
       "         3.3774586 , 1.783977  ],\n",
       "        [2.3649151 , 2.0359488 , 1.4351262 , ..., 2.9876919 ,\n",
       "         1.2255012 , 1.2225833 ]],\n",
       "\n",
       "       [[1.4005927 , 1.5937293 , 0.56927687, ..., 1.2515904 ,\n",
       "         1.221533  , 2.13584   ],\n",
       "        [0.7963758 , 0.9982291 , 2.8222992 , ..., 2.0916054 ,\n",
       "         0.72221047, 3.0188081 ],\n",
       "        [1.0030928 , 1.8435911 , 2.8172233 , ..., 1.2609228 ,\n",
       "         0.57308805, 1.6351796 ],\n",
       "        ...,\n",
       "        [1.3140978 , 0.8229348 , 2.157935  , ..., 0.98054713,\n",
       "         1.5574683 , 0.53756875],\n",
       "        [3.241149  , 0.71055573, 1.3493749 , ..., 3.2067516 ,\n",
       "         1.2719113 , 3.6005595 ],\n",
       "        [2.2394469 , 1.9023646 , 1.675095  , ..., 2.124522  ,\n",
       "         1.7494901 , 0.5249943 ]]], dtype=float32)>"
      ]
     },
     "execution_count": 16,
     "metadata": {},
     "output_type": "execute_result"
    }
   ],
   "source": [
    "# tensor 数据统计\n",
    "# 范数，ord = 1 或 2\n",
    "tf.norm(a,ord=2,axis=3) "
   ]
  },
  {
   "cell_type": "code",
   "execution_count": 21,
   "metadata": {},
   "outputs": [
    {
     "name": "stdout",
     "output_type": "stream",
     "text": [
      "tf.Tensor(\n",
      "[[-0.10575544 -1.3028634 ]\n",
      " [ 0.41957134  0.29887116]\n",
      " [ 0.86417466  1.8048207 ]], shape=(3, 2), dtype=float32)\n"
     ]
    },
    {
     "data": {
      "text/plain": [
       "<tf.Tensor: shape=(3,), dtype=int64, numpy=array([0, 0, 1], dtype=int64)>"
      ]
     },
     "execution_count": 21,
     "metadata": {},
     "output_type": "execute_result"
    }
   ],
   "source": [
    "# 最小\\最大值的索引\n",
    "d = tf.random.normal([3,2])\n",
    "print(d)\n",
    "tf.argmax(d,axis=1)"
   ]
  },
  {
   "cell_type": "code",
   "execution_count": 23,
   "metadata": {},
   "outputs": [
    {
     "data": {
      "text/plain": [
       "<tf.Tensor: shape=(3,), dtype=int16, numpy=array([0, 0, 1], dtype=int16)>"
      ]
     },
     "execution_count": 23,
     "metadata": {},
     "output_type": "execute_result"
    }
   ],
   "source": [
    "tf.cast(tf.equal(tf.constant([1,2,3]),tf.constant([5,4,3])),tf.int16)"
   ]
  },
  {
   "cell_type": "code",
   "execution_count": 26,
   "metadata": {},
   "outputs": [
    {
     "data": {
      "text/plain": [
       "Unique(y=<tf.Tensor: shape=(3,), dtype=int32, numpy=array([1, 2, 3])>, idx=<tf.Tensor: shape=(4,), dtype=int32, numpy=array([0, 1, 1, 2])>)"
      ]
     },
     "execution_count": 26,
     "metadata": {},
     "output_type": "execute_result"
    }
   ],
   "source": [
    "tf.unique(tf.constant([1,2,2,3]))"
   ]
  },
  {
   "cell_type": "markdown",
   "metadata": {},
   "source": [
    "tensor 排序"
   ]
  },
  {
   "cell_type": "code",
   "execution_count": 29,
   "metadata": {},
   "outputs": [
    {
     "data": {
      "text/plain": [
       "<tf.Tensor: shape=(7,), dtype=int32, numpy=array([4, 5, 0, 6, 2, 1, 3])>"
      ]
     },
     "execution_count": 29,
     "metadata": {},
     "output_type": "execute_result"
    }
   ],
   "source": [
    "e = tf.constant([1,6,5,7,0,0,4])\n",
    "tf.sort(e,direction='DESCENDING')\n",
    "tf.argsort(e)"
   ]
  },
  {
   "cell_type": "code",
   "execution_count": 33,
   "metadata": {},
   "outputs": [
    {
     "data": {
      "text/plain": [
       "<tf.Tensor: shape=(3,), dtype=int32, numpy=array([7, 6, 5])>"
      ]
     },
     "execution_count": 33,
     "metadata": {},
     "output_type": "execute_result"
    }
   ],
   "source": [
    "# 前n个\n",
    "tf.math.top_k(e,3).values"
   ]
  },
  {
   "cell_type": "markdown",
   "metadata": {},
   "source": [
    "tensor 数据填充"
   ]
  },
  {
   "cell_type": "code",
   "execution_count": 40,
   "metadata": {},
   "outputs": [
    {
     "data": {
      "text/plain": [
       "<tf.Tensor: shape=(11,), dtype=int32, numpy=array([0, 0, 0, 1, 6, 5, 7, 0, 0, 4, 0])>"
      ]
     },
     "execution_count": 40,
     "metadata": {},
     "output_type": "execute_result"
    }
   ],
   "source": [
    "tf.pad(e,[[3,1]])#用0填充"
   ]
  },
  {
   "cell_type": "code",
   "execution_count": 43,
   "metadata": {},
   "outputs": [
    {
     "data": {
      "text/plain": [
       "<tf.Tensor: shape=(6, 4), dtype=float32, numpy=\n",
       "array([[-0.10575544, -1.3028634 , -0.10575544, -1.3028634 ],\n",
       "       [ 0.41957134,  0.29887116,  0.41957134,  0.29887116],\n",
       "       [ 0.86417466,  1.8048207 ,  0.86417466,  1.8048207 ],\n",
       "       [-0.10575544, -1.3028634 , -0.10575544, -1.3028634 ],\n",
       "       [ 0.41957134,  0.29887116,  0.41957134,  0.29887116],\n",
       "       [ 0.86417466,  1.8048207 ,  0.86417466,  1.8048207 ]],\n",
       "      dtype=float32)>"
      ]
     },
     "execution_count": 43,
     "metadata": {},
     "output_type": "execute_result"
    }
   ],
   "source": [
    "# 复制数据\n",
    "tf.tile(d,[2,2])"
   ]
  },
  {
   "cell_type": "code",
   "execution_count": 45,
   "metadata": {},
   "outputs": [
    {
     "data": {
      "text/plain": [
       "<tf.Tensor: shape=(2, 2), dtype=int32, numpy=\n",
       "array([[2, 2],\n",
       "       [2, 2]])>"
      ]
     },
     "execution_count": 45,
     "metadata": {},
     "output_type": "execute_result"
    }
   ],
   "source": [
    "#广播\n",
    "tf.broadcast_to(tf.constant([2]),[2,2])"
   ]
  },
  {
   "cell_type": "code",
   "execution_count": 46,
   "metadata": {},
   "outputs": [
    {
     "data": {
      "text/plain": [
       "<tf.Tensor: shape=(7,), dtype=int32, numpy=array([2, 5, 5, 5, 2, 2, 4])>"
      ]
     },
     "execution_count": 46,
     "metadata": {},
     "output_type": "execute_result"
    }
   ],
   "source": [
    "# 截取tensor\n",
    "tf.clip_by_value(e,2,5)"
   ]
  },
  {
   "cell_type": "code",
   "execution_count": 49,
   "metadata": {},
   "outputs": [
    {
     "data": {
      "text/plain": [
       "<tf.Tensor: shape=(), dtype=float32, numpy=0.99999994>"
      ]
     },
     "execution_count": 49,
     "metadata": {},
     "output_type": "execute_result"
    }
   ],
   "source": [
    "# 矩阵截取\n",
    "aa=tf.clip_by_norm(d,1)\n",
    "tf.norm(aa)"
   ]
  },
  {
   "cell_type": "code",
   "execution_count": 56,
   "metadata": {},
   "outputs": [
    {
     "data": {
      "text/plain": [
       "([<tf.Tensor: shape=(2, 28, 28, 3), dtype=float32, numpy=\n",
       "  array([[[[ 1.12806670e-01, -1.01153307e-01,  1.83853254e-01],\n",
       "           [-1.28328696e-01, -1.65460631e-01,  5.14476776e-01],\n",
       "           [ 2.42395326e-01, -1.45948321e-01, -3.70967984e-01],\n",
       "           ...,\n",
       "           [-6.19253576e-01, -1.63692564e-01, -2.98855025e-02],\n",
       "           [-5.42785943e-01, -3.17425102e-01, -2.88379453e-02],\n",
       "           [-2.89275408e-01,  5.25644004e-01,  4.53909338e-01]],\n",
       "  \n",
       "          [[ 1.42154828e-01, -2.63343304e-01, -1.18080609e-01],\n",
       "           [ 4.79216605e-01,  2.21087486e-01, -1.61243603e-01],\n",
       "           [-1.18763886e-01,  5.72741210e-01, -5.78887947e-02],\n",
       "           ...,\n",
       "           [ 4.80561167e-01, -4.36325520e-01, -3.51283342e-01],\n",
       "           [-7.56588131e-02, -1.71611935e-01,  5.86366951e-02],\n",
       "           [ 4.84411493e-02,  1.04170822e-01, -4.93647382e-02]],\n",
       "  \n",
       "          [[ 2.23744124e-01,  1.43445730e-01, -2.61196345e-01],\n",
       "           [-9.10508782e-02,  2.73200929e-01,  2.71602497e-02],\n",
       "           [ 1.33213848e-02,  4.09950763e-02, -1.75456449e-01],\n",
       "           ...,\n",
       "           [ 1.49523064e-01,  7.50559628e-01,  1.19872876e-01],\n",
       "           [ 6.65163621e-02, -3.25077802e-01,  1.26331016e-01],\n",
       "           [-1.70489222e-01,  1.78880036e-01, -3.15910190e-01]],\n",
       "  \n",
       "          ...,\n",
       "  \n",
       "          [[-1.91181809e-01, -8.07673261e-02,  6.86047673e-02],\n",
       "           [-6.30097017e-02, -1.14400715e-01,  9.46507603e-03],\n",
       "           [ 1.41880274e-01,  5.42356409e-02, -3.11711937e-01],\n",
       "           ...,\n",
       "           [-8.05106480e-03, -4.50067967e-01, -2.65731484e-01],\n",
       "           [-3.59000355e-01, -2.57248487e-02, -2.50918418e-01],\n",
       "           [ 1.65677458e-01, -6.06950708e-02,  6.20090067e-01]],\n",
       "  \n",
       "          [[ 2.96083093e-02, -1.63387358e-02,  2.32123993e-02],\n",
       "           [ 2.22234830e-01,  1.77879661e-01,  2.12916192e-02],\n",
       "           [-1.32727444e-01,  3.91709656e-01, -1.34561947e-02],\n",
       "           ...,\n",
       "           [ 1.34930357e-01,  2.76909042e-02, -2.52317369e-01],\n",
       "           [-6.79571986e-01,  2.89502800e-01, -2.94880122e-01],\n",
       "           [ 2.16604024e-01, -3.07250559e-01,  1.87532604e-01]],\n",
       "  \n",
       "          [[ 4.34504092e-01,  3.23393226e-01,  1.29504323e-01],\n",
       "           [-3.72797608e-01, -9.12324488e-02, -2.87338048e-01],\n",
       "           [ 8.48939791e-02, -2.27444828e-01, -2.35107720e-01],\n",
       "           ...,\n",
       "           [ 3.39352041e-01,  2.74480015e-01,  5.51820934e-01],\n",
       "           [-2.05282241e-01, -7.82569945e-02, -1.87135920e-01],\n",
       "           [-2.48071477e-01,  1.23477325e-01,  7.81189948e-02]]],\n",
       "  \n",
       "  \n",
       "         [[[ 2.54754156e-01, -2.09266260e-01,  9.55028459e-03],\n",
       "           [-7.44783133e-02,  3.33620459e-01,  1.54931605e-01],\n",
       "           [ 2.38490310e-02, -1.30113542e-01, -2.17539445e-02],\n",
       "           ...,\n",
       "           [ 1.55496225e-02,  1.57131717e-01, -2.48870313e-01],\n",
       "           [-2.65491992e-01, -9.32787135e-02,  5.96607365e-02],\n",
       "           [ 4.49256092e-01, -2.10763910e-03, -2.26138145e-01]],\n",
       "  \n",
       "          [[-1.39609966e-02,  1.94554962e-02,  1.86002001e-01],\n",
       "           [ 1.72199026e-01, -1.52868941e-01,  4.72973548e-02],\n",
       "           [ 6.93858340e-02,  4.99230146e-01, -4.33211446e-01],\n",
       "           ...,\n",
       "           [ 3.79970253e-01, -1.57382146e-01, -2.71030247e-01],\n",
       "           [ 1.04897164e-01,  1.32983282e-01,  1.53795425e-02],\n",
       "           [-3.55033696e-01,  4.89068814e-02,  6.13945484e-01]],\n",
       "  \n",
       "          [[-1.15555957e-01, -1.38271421e-01,  1.52728781e-01],\n",
       "           [ 1.28666908e-01, -3.61503810e-01,  2.03078300e-01],\n",
       "           [-3.17313671e-02,  3.49977732e-01,  5.62706530e-01],\n",
       "           ...,\n",
       "           [ 1.18755691e-01, -8.96311253e-02, -2.56967336e-01],\n",
       "           [-1.17020778e-01, -5.10539599e-02,  4.37334478e-02],\n",
       "           [ 3.00655276e-01,  1.81500718e-01,  1.57922000e-01]],\n",
       "  \n",
       "          ...,\n",
       "  \n",
       "          [[-2.50790626e-01, -1.77339971e-01, -3.76389846e-02],\n",
       "           [-1.26252279e-01, -1.10832877e-01, -9.65999737e-02],\n",
       "           [-3.18333238e-01, -3.93848985e-01, -4.22124825e-02],\n",
       "           ...,\n",
       "           [ 6.11823387e-02,  1.58797711e-01,  1.56071097e-01],\n",
       "           [ 1.39913335e-01,  2.46325105e-01,  2.32948661e-01],\n",
       "           [ 1.05089419e-01,  7.01359585e-02, -7.90361688e-03]],\n",
       "  \n",
       "          [[-3.22631150e-01, -3.76956254e-01, -5.79971790e-01],\n",
       "           [ 1.39791906e-01, -3.79479397e-03,  9.18820798e-02],\n",
       "           [-3.10705781e-01,  9.33086127e-03,  6.59352243e-02],\n",
       "           ...,\n",
       "           [-3.97511542e-01, -3.08017105e-01, -5.63351452e-01],\n",
       "           [ 8.07727650e-02,  6.12923317e-02, -2.81835586e-01],\n",
       "           [ 1.89678058e-01, -2.55737249e-02,  8.26005101e-01]],\n",
       "  \n",
       "          [[-5.88260815e-02,  2.44983077e-01,  4.63287055e-01],\n",
       "           [-4.47576731e-01,  1.91086084e-02,  5.24849347e-05],\n",
       "           [ 5.21340743e-02, -1.65191397e-01,  3.54396045e-01],\n",
       "           ...,\n",
       "           [-2.01052725e-01, -4.54573184e-01,  5.69296740e-02],\n",
       "           [ 4.32692245e-02,  7.68188462e-02,  4.02439684e-01],\n",
       "           [-5.98792732e-02,  9.18968245e-02, -5.70422336e-02]]]],\n",
       "        dtype=float32)>,\n",
       "  <tf.Tensor: shape=(2, 28, 28, 3), dtype=float32, numpy=\n",
       "  array([[[[-2.88135231e-01,  2.74363011e-02,  2.55796034e-02],\n",
       "           [ 8.60198960e-02, -8.91937986e-02, -5.34842536e-02],\n",
       "           [-8.08973834e-02,  4.92442459e-01, -2.12586090e-01],\n",
       "           ...,\n",
       "           [ 3.68360251e-01, -1.44615531e-01, -2.11532190e-01],\n",
       "           [ 9.49974135e-02, -1.81137457e-01,  3.58699542e-03],\n",
       "           [-1.92761287e-01,  9.91116464e-02, -1.74054369e-01]],\n",
       "  \n",
       "          [[ 4.36785594e-02,  9.12408605e-02, -2.53844827e-01],\n",
       "           [-9.55030322e-02,  1.72259495e-01,  9.14559513e-02],\n",
       "           [-7.18639493e-02, -1.45899042e-01,  2.17069648e-02],\n",
       "           ...,\n",
       "           [-8.11357126e-02, -1.55547976e-01, -1.50408909e-01],\n",
       "           [ 3.88974398e-01,  1.94480821e-01,  7.79710039e-02],\n",
       "           [ 4.39161301e-01, -3.92638035e-02, -7.51599669e-03]],\n",
       "  \n",
       "          [[-1.45299464e-01,  2.71872818e-01,  2.96133995e-01],\n",
       "           [ 1.56606331e-01,  6.26622066e-02,  1.05079621e-01],\n",
       "           [ 1.49964467e-02,  6.11222768e-03,  1.53343771e-02],\n",
       "           ...,\n",
       "           [ 1.56018734e-01,  4.91508693e-02,  2.45700274e-02],\n",
       "           [-8.40914249e-02,  2.95304865e-01, -1.10715739e-01],\n",
       "           [ 1.93303511e-01,  3.60917824e-04, -3.75913531e-02]],\n",
       "  \n",
       "          ...,\n",
       "  \n",
       "          [[-2.22355187e-01, -3.67253125e-01,  3.36102128e-01],\n",
       "           [-5.03415585e-01,  7.01729655e-02, -4.74523120e-02],\n",
       "           [-7.14340955e-02,  1.28528684e-01,  7.90591389e-02],\n",
       "           ...,\n",
       "           [-6.30048960e-02,  3.80867481e-01, -1.73212290e-01],\n",
       "           [ 1.87120214e-01, -2.74348527e-01,  8.85098949e-02],\n",
       "           [ 2.74846882e-01, -1.80079386e-01,  1.87574580e-01]],\n",
       "  \n",
       "          [[-9.58290547e-02, -1.81906521e-01, -9.53118727e-02],\n",
       "           [-1.69040546e-01, -6.39154971e-01, -1.78451851e-01],\n",
       "           [ 4.49525639e-02,  1.11158445e-01,  2.20307007e-01],\n",
       "           ...,\n",
       "           [ 1.50210103e-02, -1.90033466e-02, -1.37154505e-01],\n",
       "           [ 5.08660197e-01, -8.78383219e-02,  2.04106361e-01],\n",
       "           [ 2.96733797e-01, -8.18507522e-02, -3.79437730e-02]],\n",
       "  \n",
       "          [[-2.94829071e-01,  1.62335545e-01,  1.38145871e-03],\n",
       "           [-3.26441854e-01,  1.50379553e-01,  1.51399449e-01],\n",
       "           [ 9.28596631e-02, -2.58684661e-02, -2.74841696e-01],\n",
       "           ...,\n",
       "           [-6.02424107e-02,  2.18031764e-01, -1.32852107e-01],\n",
       "           [-2.11733848e-01,  1.85672745e-01,  1.82719622e-02],\n",
       "           [-1.61182359e-01, -5.18936291e-02, -4.25790297e-03]]],\n",
       "  \n",
       "  \n",
       "         [[[ 4.08102274e-01,  1.67460755e-01, -3.74657735e-02],\n",
       "           [-7.28409111e-01,  2.12740868e-01,  1.36933863e-01],\n",
       "           [-5.34751453e-02, -8.44227076e-02, -3.74662280e-01],\n",
       "           ...,\n",
       "           [ 1.75180092e-01,  1.46029249e-01, -3.30727696e-01],\n",
       "           [ 2.96371896e-03, -2.28230596e-01,  1.08336106e-01],\n",
       "           [ 4.80470434e-02,  7.16777593e-02,  3.47894937e-01]],\n",
       "  \n",
       "          [[ 5.31293675e-02,  5.21401048e-01, -5.49795985e-01],\n",
       "           [-8.02278817e-02,  5.25474967e-03, -2.44662151e-01],\n",
       "           [ 2.02171430e-01,  4.32481974e-01, -1.39067145e-02],\n",
       "           ...,\n",
       "           [-6.65386766e-02, -2.05105171e-01,  9.09999013e-02],\n",
       "           [-2.06072614e-01, -2.06199259e-01,  6.84858412e-02],\n",
       "           [-9.26924050e-02,  1.19687710e-02,  2.29889713e-03]],\n",
       "  \n",
       "          [[-9.72337797e-02, -7.52179921e-02, -3.02889705e-01],\n",
       "           [ 8.33089463e-03,  1.51573699e-02,  9.27263349e-02],\n",
       "           [-2.22587392e-01,  2.66650885e-01,  2.13604301e-01],\n",
       "           ...,\n",
       "           [ 2.94307351e-01, -1.98754683e-01, -5.15212864e-02],\n",
       "           [-1.41934067e-01, -1.53690979e-01, -2.00076282e-01],\n",
       "           [ 9.44316536e-02, -2.34101236e-01, -1.03559181e-01]],\n",
       "  \n",
       "          ...,\n",
       "  \n",
       "          [[-2.16719970e-01,  3.52298915e-01,  8.03712979e-02],\n",
       "           [ 6.29225373e-02, -2.72431344e-01,  2.35220581e-01],\n",
       "           [-2.50820428e-01,  1.05783515e-01, -1.85688585e-02],\n",
       "           ...,\n",
       "           [ 2.07908690e-01,  1.17553741e-01, -1.10819805e-02],\n",
       "           [ 1.99532181e-01,  4.49617356e-01,  2.96308786e-01],\n",
       "           [ 1.35848314e-01,  1.65320367e-01, -1.14411771e-01]],\n",
       "  \n",
       "          [[ 1.05212346e-01, -1.03991523e-01,  1.10364713e-01],\n",
       "           [-6.97525859e-01,  3.14187437e-01,  2.54397541e-01],\n",
       "           [ 2.87651271e-02, -1.55981690e-01, -4.75125536e-02],\n",
       "           ...,\n",
       "           [ 1.17787980e-01, -2.12068692e-01, -5.94941795e-01],\n",
       "           [ 1.71961524e-02, -2.81576395e-01, -1.28425136e-01],\n",
       "           [-3.60348970e-01,  1.06358401e-01, -1.38385892e-01]],\n",
       "  \n",
       "          [[ 4.04967703e-02,  1.08029917e-01, -2.13908162e-02],\n",
       "           [ 2.36175671e-01,  8.18443447e-02,  2.74170101e-01],\n",
       "           [ 3.55087481e-02, -7.16627985e-02, -1.25612333e-01],\n",
       "           ...,\n",
       "           [-2.16740236e-01, -5.95243983e-02,  6.60639331e-02],\n",
       "           [ 3.29278558e-01,  9.26666409e-02, -1.42220125e-01],\n",
       "           [-1.34599239e-01, -1.89734697e-02, -4.07603055e-01]]]],\n",
       "        dtype=float32)>],\n",
       " <tf.Tensor: shape=(), dtype=float32, numpy=97.66943>)"
      ]
     },
     "execution_count": 56,
     "metadata": {},
     "output_type": "execute_result"
    }
   ],
   "source": [
    "# 使各个方向等比例截取，不改变梯度方向\n",
    "tf.clip_by_global_norm([a,b],23)"
   ]
  },
  {
   "cell_type": "code",
   "execution_count": 58,
   "metadata": {},
   "outputs": [
    {
     "name": "stdout",
     "output_type": "stream",
     "text": [
      "tf.Tensor([1 6 5 7 0 0 4], shape=(7,), dtype=int32)\n"
     ]
    },
    {
     "data": {
      "text/plain": [
       "<tf.Tensor: shape=(5, 1), dtype=int64, numpy=\n",
       "array([[0],\n",
       "       [1],\n",
       "       [2],\n",
       "       [3],\n",
       "       [6]], dtype=int64)>"
      ]
     },
     "execution_count": 58,
     "metadata": {},
     "output_type": "execute_result"
    }
   ],
   "source": [
    "# tensor true 的位置(单参数)\n",
    "print(e)\n",
    "tf.where(e)"
   ]
  },
  {
   "cell_type": "code",
   "execution_count": null,
   "metadata": {},
   "outputs": [],
   "source": [
    "# 三个参数\n",
    "# 如果为TRUE 选取第2个参数的值，否则选取第3个参数的值"
   ]
  },
  {
   "cell_type": "code",
   "execution_count": 59,
   "metadata": {},
   "outputs": [
    {
     "data": {
      "text/plain": [
       "<tf.Tensor: shape=(8,), dtype=int32, numpy=array([0, 0, 0, 1, 0, 2, 3, 0])>"
      ]
     },
     "execution_count": 59,
     "metadata": {},
     "output_type": "execute_result"
    }
   ],
   "source": [
    "# 更新tensor\n",
    "indices = tf.constant([[3],[5],[6]])\n",
    "update = tf.constant([1,2,3])\n",
    "# 模板全为0\n",
    "tf.scatter_nd(indices=indices,updates=update,shape=tf.constant([8]))"
   ]
  },
  {
   "cell_type": "code",
   "execution_count": 61,
   "metadata": {},
   "outputs": [
    {
     "data": {
      "text/plain": [
       "<matplotlib.image.AxesImage at 0x1f2f2bb8b80>"
      ]
     },
     "execution_count": 61,
     "metadata": {},
     "output_type": "execute_result"
    },
    {
     "data": {
      "image/png": "[encoded data removed]",
      "text/plain": [
       "<Figure size 432x288 with 1 Axes>"
      ]
     },
     "metadata": {
      "needs_background": "light"
     },
     "output_type": "display_data"
    }
   ],
   "source": [
    "import matplotlib.pyplot as plt\n",
    "plt.imshow(d)\n"
   ]
  },
  {
   "cell_type": "code",
   "execution_count": 60,
   "metadata": {},
   "outputs": [
    {
     "data": {
      "text/plain": [
       "[<tf.Tensor: shape=(3, 3), dtype=int32, numpy=\n",
       " array([[1, 2, 3],\n",
       "        [1, 2, 3],\n",
       "        [1, 2, 3]])>,\n",
       " <tf.Tensor: shape=(3, 3), dtype=int32, numpy=\n",
       " array([[2, 2, 2],\n",
       "        [2, 2, 2],\n",
       "        [8, 8, 8]])>]"
      ]
     },
     "execution_count": 60,
     "metadata": {},
     "output_type": "execute_result"
    }
   ],
   "source": [
    "# 生成2位坐标\n",
    "x = tf.constant([1,2,3])\n",
    "y = tf.constant([2,2,8])\n",
    "tf.meshgrid(x,y)"
   ]
  }
 ],
 "metadata": {
  "kernelspec": {
   "display_name": "Python 3.9.11 ('base')",
   "language": "python",
   "name": "python3"
  },
  "language_info": {
   "codemirror_mode": {
    "name": "ipython",
    "version": 3
   },
   "file_extension": ".py",
   "mimetype": "text/x-python",
   "name": "python",
   "nbconvert_exporter": "python",
   "pygments_lexer": "ipython3",
   "version": "3.9.11"
  },
  "orig_nbformat": 4,
  "vscode": {
   "interpreter": {
    "hash": "88279d2366fe020547cde40dd65aa0e3aa662a6ec1f3ca12d88834876c85e1a6"
   }
  }
 },
 "nbformat": 4,
 "nbformat_minor": 2
}
