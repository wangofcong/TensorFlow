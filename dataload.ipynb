{
 "cells": [
  {
   "cell_type": "code",
   "execution_count": 1,
   "metadata": {},
   "outputs": [],
   "source": [
    "import tensorflow as tf"
   ]
  },
  {
   "cell_type": "markdown",
   "metadata": {},
   "source": [
    "数据集加载"
   ]
  },
  {
   "cell_type": "code",
   "execution_count": 2,
   "metadata": {},
   "outputs": [
    {
     "data": {
      "text/plain": [
       "numpy.ndarray"
      ]
     },
     "execution_count": 2,
     "metadata": {},
     "output_type": "execute_result"
    }
   ],
   "source": [
    "from tensorflow import keras\n",
    "(x,y),(x_test,y_test) = keras.datasets.mnist.load_data()\n",
    "type(x)"
   ]
  },
  {
   "cell_type": "code",
   "execution_count": 3,
   "metadata": {},
   "outputs": [
    {
     "data": {
      "text/plain": [
       "TensorShape([28, 28])"
      ]
     },
     "execution_count": 3,
     "metadata": {},
     "output_type": "execute_result"
    }
   ],
   "source": [
    "db = tf.data.Dataset.from_tensor_slices(x_test)#将numpy转换成tensor,可以多参数\n",
    "db = db.shuffle(100)\n",
    "next(iter(db)).shape"
   ]
  },
  {
   "cell_type": "code",
   "execution_count": 4,
   "metadata": {},
   "outputs": [
    {
     "data": {
      "text/plain": [
       "<MapDataset element_spec=TensorSpec(shape=<unknown>, dtype=tf.int32, name=None)>"
      ]
     },
     "execution_count": 4,
     "metadata": {},
     "output_type": "execute_result"
    }
   ],
   "source": [
    "# 数据预处理\n",
    "db.map(print)#每个图片执行print函数"
   ]
  },
  {
   "cell_type": "code",
   "execution_count": 5,
   "metadata": {},
   "outputs": [
    {
     "data": {
      "text/plain": [
       "TensorShape([23, 28, 28])"
      ]
     },
     "execution_count": 5,
     "metadata": {},
     "output_type": "execute_result"
    }
   ],
   "source": [
    "# 数据取片\n",
    "db1 = db.batch(23)\n",
    "db_iter = iter(db1)\n",
    "next(db_iter).shape"
   ]
  },
  {
   "cell_type": "code",
   "execution_count": 6,
   "metadata": {},
   "outputs": [],
   "source": [
    "# 迭代多次\n",
    "db2 = db1.repeat()#永远不会迭代结束\n",
    "db3 = db1.repeat(2)#迭代两次就介绍"
   ]
  },
  {
   "cell_type": "markdown",
   "metadata": {},
   "source": [
    "全链接层"
   ]
  },
  {
   "cell_type": "code",
   "execution_count": 9,
   "metadata": {},
   "outputs": [
    {
     "name": "stdout",
     "output_type": "stream",
     "text": [
      "tf.Tensor(\n",
      "[ 0.19179626  0.13661523 -0.16143602  0.17120083  0.20744158 -0.14924833\n",
      " -0.07402708 -0.07320069 -0.10700993  0.18347205], shape=(10,), dtype=float32)\n"
     ]
    },
    {
     "data": {
      "text/plain": [
       "<tf.Variable 'dense_1/bias:0' shape=(10,) dtype=float32, numpy=array([0., 0., 0., 0., 0., 0., 0., 0., 0., 0.], dtype=float32)>"
      ]
     },
     "execution_count": 9,
     "metadata": {},
     "output_type": "execute_result"
    }
   ],
   "source": [
    "#  构造【n，y】的网络层，n有输入确定，y有输出确定\n",
    "net1 = tf.keras.layers.Dense(10)\n",
    "input = tf.random.truncated_normal([256,125])\n",
    "out = net1(input)#前向计算一层网络\n",
    "out.shape\n",
    "print(net1.kernel[0,:])\n",
    "net1.bias\n",
    " "
   ]
  },
  {
   "cell_type": "code",
   "execution_count": null,
   "metadata": {},
   "outputs": [],
   "source": [
    "net = tf.keras.layers.Dense(12)\n",
    "net.build(input_shape=[None,123])\n",
    "net.build(input_shape=[None,22])#构造隐藏层的形状\n",
    "print(net.kernel)"
   ]
  },
  {
   "cell_type": "code",
   "execution_count": 12,
   "metadata": {},
   "outputs": [
    {
     "name": "stdout",
     "output_type": "stream",
     "text": [
      "Model: \"sequential\"\n",
      "_________________________________________________________________\n",
      " Layer (type)                Output Shape              Param #   \n",
      "=================================================================\n",
      " dense_4 (Dense)             (None, 2)                 26        \n",
      "                                                                 \n",
      " dense_5 (Dense)             (None, 2)                 6         \n",
      "                                                                 \n",
      " dense_6 (Dense)             (None, 2)                 6         \n",
      "                                                                 \n",
      "=================================================================\n",
      "Total params: 38\n",
      "Trainable params: 38\n",
      "Non-trainable params: 0\n",
      "_________________________________________________________________\n",
      "dense_4/kernel:0 (12, 2)\n",
      "dense_4/bias:0 (2,)\n",
      "dense_5/kernel:0 (2, 2)\n",
      "dense_5/bias:0 (2,)\n",
      "dense_6/kernel:0 (2, 2)\n",
      "dense_6/bias:0 (2,)\n"
     ]
    }
   ],
   "source": [
    "# 构造网络\n",
    "model = tf.keras.Sequential(\n",
    "    [keras.layers.Dense(2,activation=\"relu\"),keras.layers.Dense(2,activation=\"relu\"),keras.layers.Dense(2,activation=\"relu\")]\n",
    ")\n",
    "model.build(input_shape=[None,12])\n",
    "model.summary()\n",
    "for p in model.trainable_variables:\n",
    "    print(p.name,p.shape)"
   ]
  },
  {
   "cell_type": "markdown",
   "metadata": {},
   "source": [
    "#### 输出方式  \n",
    "linear or naive classfication with mse or other general prediction:  y->[-无穷大 +无穷大]  \n",
    "二分类 图像生成: y-> [0 1]  \n",
    "激活函数：relu y->[0 +无穷大]  tf.sigmoid y->[0 1]  \n",
    "多分类：y->[0 1] and sum(y)=1\n",
    "激活函数：tf.nn.softmax()\n",
    "y->[-1 1] tf.tanh() \n",
    "\n"
   ]
  },
  {
   "cell_type": "code",
   "execution_count": null,
   "metadata": {},
   "outputs": [],
   "source": [
    "a = tf.linspace(-6,6,10)\n",
    "print(a)\n",
    "b=tf.sigmoid(a)\n",
    "tf.reduce_min(b),tf.reduce_max(b)"
   ]
  },
  {
   "cell_type": "code",
   "execution_count": 16,
   "metadata": {},
   "outputs": [
    {
     "data": {
      "text/plain": [
       "(<tf.Tensor: shape=(10,), dtype=float64, numpy=\n",
       " array([4.52462289e-06, 1.71649166e-05, 6.51179930e-05, 2.47036039e-04,\n",
       "        9.37172691e-04, 3.55532195e-03, 1.34877107e-02, 5.11678952e-02,\n",
       "        1.94114001e-01, 7.36404055e-01])>,\n",
       " <tf.Tensor: shape=(10,), dtype=float64, numpy=\n",
       " array([-0.99998771, -0.99982316, -0.99745797, -0.96402758, -0.58278295,\n",
       "         0.58278295,  0.96402758,  0.99745797,  0.99982316,  0.99998771])>)"
      ]
     },
     "execution_count": 16,
     "metadata": {},
     "output_type": "execute_result"
    }
   ],
   "source": [
    "tf.nn.softmax(a),tf.tanh(a)"
   ]
  },
  {
   "cell_type": "markdown",
   "metadata": {},
   "source": [
    "##### 误差计算  \n",
    "MSE: loss=sum((y-out)^2)/n tf.losses.MSE() 返回一个[b]的向量，要求均值  \n",
    "交叉熵：熵越小，信息量越大，越不稳定  \n",
    "多分类  H(p,q)=-sum(p*log(q))=-1*log(q1),p1 != 0,p为真实值，q为预测值  \n",
    "当使用one-hot编码时，p=q，H(p,q)=0,意味着预测与真实值相等  \n",
    "单分类 loss = -（p*log(q)+(1-p)*log(1-q)  \n",
    "tf.losses.categorical_crossentropy(p,q)"
   ]
  },
  {
   "cell_type": "code",
   "execution_count": 18,
   "metadata": {},
   "outputs": [
    {
     "data": {
      "text/plain": [
       "<tf.Tensor: shape=(), dtype=float32, numpy=-1.9096919>"
      ]
     },
     "execution_count": 18,
     "metadata": {},
     "output_type": "execute_result"
    }
   ],
   "source": [
    "# 熵计算\n",
    "a=tf.constant([0.2,0.4,0.1,0.29,0.01])\n",
    "tf.reduce_sum(a*tf.math.log(a)/tf.math.log(2.))"
   ]
  },
  {
   "cell_type": "code",
   "execution_count": 24,
   "metadata": {},
   "outputs": [
    {
     "data": {
      "text/plain": [
       "<tf.Tensor: shape=(), dtype=float32, numpy=1.2419142>"
      ]
     },
     "execution_count": 24,
     "metadata": {},
     "output_type": "execute_result"
    }
   ],
   "source": [
    "# 交叉熵计算\n",
    "tf.losses.categorical_crossentropy([0,1,0,0],[0.1,0.4,0.25,0.25],from_logits=True)\n",
    "# 二分类交叉熵\n",
    "# tf.losses.binary_crossentropy([1],[0.9])"
   ]
  }
 ],
 "metadata": {
  "kernelspec": {
   "display_name": "Python 3.9.11 ('base')",
   "language": "python",
   "name": "python3"
  },
  "language_info": {
   "codemirror_mode": {
    "name": "ipython",
    "version": 3
   },
   "file_extension": ".py",
   "mimetype": "text/x-python",
   "name": "python",
   "nbconvert_exporter": "python",
   "pygments_lexer": "ipython3",
   "version": "3.9.11"
  },
  "orig_nbformat": 4,
  "vscode": {
   "interpreter": {
    "hash": "88279d2366fe020547cde40dd65aa0e3aa662a6ec1f3ca12d88834876c85e1a6"
   }
  }
 },
 "nbformat": 4,
 "nbformat_minor": 2
}
