{
 "cells": [
  {
   "cell_type": "code",
   "execution_count": null,
   "metadata": {},
   "outputs": [],
   "source": [
    "from pyecharts import options as opts\n",
    "from pyecharts.charts import Graph\n",
    "\n",
    "nodes = [\n",
    "    {\"name\": \"结点1\", \"symbolSize\": 10},\n",
    "    {\"name\": \"结点2\", \"symbolSize\": 20},\n",
    "    {\"name\": \"结点3\", \"symbolSize\": 30},\n",
    "    {\"name\": \"结点4\", \"symbolSize\": 40},\n",
    "    {\"name\": \"结点5\", \"symbolSize\": 50},\n",
    "    {\"name\": \"结点6\", \"symbolSize\": 40},\n",
    "    {\"name\": \"结点7\", \"symbolSize\": 30},\n",
    "    {\"name\": \"结点8\", \"symbolSize\": 20},\n",
    "]\n",
    "links = []\n",
    "for i in nodes:\n",
    "    for j in nodes:\n",
    "        links.append({\"source\": i.get(\"name\"), \"target\": j.get(\"name\")})\n",
    "c = (\n",
    "    Graph()\n",
    "    .add(\"\", nodes, links, repulsion=8000)\n",
    "    .set_global_opts(title_opts=opts.TitleOpts(title=\"Graph-基本示例\"))\n",
    ")\n",
    "c.render_notebook()"
   ]
  },
  {
   "cell_type": "code",
   "execution_count": null,
   "metadata": {},
   "outputs": [],
   "source": [
    "# 人物关系图\n",
    "import json\n",
    "\n",
    "from pyecharts import options as opts\n",
    "from pyecharts.charts import Graph\n",
    "\n",
    "with open(\"weibo.json\", \"r\", encoding=\"utf-8\") as f:\n",
    "    j = json.load(f)\n",
    "    nodes, links, categories, cont, mid, userl = j\n",
    "c = (\n",
    "    Graph()\n",
    "    .add(\n",
    "        \"\",\n",
    "        nodes,\n",
    "        links,\n",
    "        categories,\n",
    "        repulsion=50,\n",
    "        linestyle_opts=opts.LineStyleOpts(curve=0.2),\n",
    "        label_opts=opts.LabelOpts(is_show=False),\n",
    "    )\n",
    "    .set_global_opts(\n",
    "        legend_opts=opts.LegendOpts(is_show=False),\n",
    "        title_opts=opts.TitleOpts(title=\"Graph-微博转发关系图\"),\n",
    "    )\n",
    "    \n",
    ")\n",
    "c.render_notebook()"
   ]
  }
 ],
 "metadata": {
  "kernelspec": {
   "display_name": "Python 3.9.11 ('base')",
   "language": "python",
   "name": "python3"
  },
  "language_info": {
   "codemirror_mode": {
    "name": "ipython",
    "version": 3
   },
   "file_extension": ".py",
   "mimetype": "text/x-python",
   "name": "python",
   "nbconvert_exporter": "python",
   "pygments_lexer": "ipython3",
   "version": "3.9.11"
  },
  "orig_nbformat": 4,
  "vscode": {
   "interpreter": {
    "hash": "88279d2366fe020547cde40dd65aa0e3aa662a6ec1f3ca12d88834876c85e1a6"
   }
  }
 },
 "nbformat": 4,
 "nbformat_minor": 2
}
