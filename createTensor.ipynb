{
 "cells": [
  {
   "cell_type": "code",
   "execution_count": 1,
   "metadata": {},
   "outputs": [
    {
     "data": {
      "text/html": [
       "<div>\n",
       "<style scoped>\n",
       "    .dataframe tbody tr th:only-of-type {\n",
       "        vertical-align: middle;\n",
       "    }\n",
       "\n",
       "    .dataframe tbody tr th {\n",
       "        vertical-align: top;\n",
       "    }\n",
       "\n",
       "    .dataframe thead th {\n",
       "        text-align: right;\n",
       "    }\n",
       "</style>\n",
       "<table border=\"1\" class=\"dataframe\">\n",
       "  <thead>\n",
       "    <tr style=\"text-align: right;\">\n",
       "      <th></th>\n",
       "      <th>age</th>\n",
       "      <th>job</th>\n",
       "      <th>marital</th>\n",
       "      <th>education</th>\n",
       "      <th>default</th>\n",
       "      <th>balance</th>\n",
       "      <th>housing</th>\n",
       "      <th>loan</th>\n",
       "      <th>contact</th>\n",
       "      <th>day</th>\n",
       "      <th>month</th>\n",
       "      <th>duration</th>\n",
       "      <th>campaign</th>\n",
       "      <th>pdays</th>\n",
       "      <th>previous</th>\n",
       "      <th>poutcome</th>\n",
       "      <th>y</th>\n",
       "    </tr>\n",
       "  </thead>\n",
       "  <tbody>\n",
       "    <tr>\n",
       "      <th>6333</th>\n",
       "      <td>34</td>\n",
       "      <td>management</td>\n",
       "      <td>single</td>\n",
       "      <td>primary</td>\n",
       "      <td>no</td>\n",
       "      <td>212</td>\n",
       "      <td>no</td>\n",
       "      <td>no</td>\n",
       "      <td>unknown</td>\n",
       "      <td>27</td>\n",
       "      <td>may</td>\n",
       "      <td>88</td>\n",
       "      <td>1</td>\n",
       "      <td>-1</td>\n",
       "      <td>0</td>\n",
       "      <td>unknown</td>\n",
       "      <td>no</td>\n",
       "    </tr>\n",
       "    <tr>\n",
       "      <th>7881</th>\n",
       "      <td>27</td>\n",
       "      <td>management</td>\n",
       "      <td>single</td>\n",
       "      <td>tertiary</td>\n",
       "      <td>no</td>\n",
       "      <td>2061</td>\n",
       "      <td>yes</td>\n",
       "      <td>no</td>\n",
       "      <td>unknown</td>\n",
       "      <td>30</td>\n",
       "      <td>may</td>\n",
       "      <td>72</td>\n",
       "      <td>3</td>\n",
       "      <td>-1</td>\n",
       "      <td>0</td>\n",
       "      <td>unknown</td>\n",
       "      <td>no</td>\n",
       "    </tr>\n",
       "    <tr>\n",
       "      <th>8577</th>\n",
       "      <td>37</td>\n",
       "      <td>services</td>\n",
       "      <td>married</td>\n",
       "      <td>secondary</td>\n",
       "      <td>no</td>\n",
       "      <td>1325</td>\n",
       "      <td>no</td>\n",
       "      <td>no</td>\n",
       "      <td>unknown</td>\n",
       "      <td>3</td>\n",
       "      <td>jun</td>\n",
       "      <td>72</td>\n",
       "      <td>3</td>\n",
       "      <td>-1</td>\n",
       "      <td>0</td>\n",
       "      <td>unknown</td>\n",
       "      <td>no</td>\n",
       "    </tr>\n",
       "  </tbody>\n",
       "</table>\n",
       "</div>"
      ],
      "text/plain": [
       "      age         job  marital  education default  balance housing loan  \\\n",
       "6333   34  management   single    primary      no      212      no   no   \n",
       "7881   27  management   single   tertiary      no     2061     yes   no   \n",
       "8577   37    services  married  secondary      no     1325      no   no   \n",
       "\n",
       "      contact  day month  duration  campaign  pdays  previous poutcome   y  \n",
       "6333  unknown   27   may        88         1     -1         0  unknown  no  \n",
       "7881  unknown   30   may        72         3     -1         0  unknown  no  \n",
       "8577  unknown    3   jun        72         3     -1         0  unknown  no  "
      ]
     },
     "execution_count": 1,
     "metadata": {},
     "output_type": "execute_result"
    }
   ],
   "source": [
    "import pandas as pd\n",
    "data = pd.read_csv(r\"bank-Information.csv\")\n",
    "data.sample(3)"
   ]
  },
  {
   "cell_type": "markdown",
   "metadata": {},
   "source": [
    "it is for test!  \n",
    "thank you  \n"
   ]
  },
  {
   "cell_type": "code",
   "execution_count": 2,
   "metadata": {},
   "outputs": [
    {
     "data": {
      "text/plain": [
       "age         int64\n",
       "day         int64\n",
       "duration    int64\n",
       "campaign    int64\n",
       "previous    int64\n",
       "dtype: object"
      ]
     },
     "execution_count": 2,
     "metadata": {},
     "output_type": "execute_result"
    }
   ],
   "source": [
    "targeData = data[['age','day','duration','campaign','previous']]\n",
    "targeData.dtypes"
   ]
  },
  {
   "cell_type": "code",
   "execution_count": 3,
   "metadata": {},
   "outputs": [
    {
     "data": {
      "text/plain": [
       "(45211, 5)"
      ]
     },
     "execution_count": 3,
     "metadata": {},
     "output_type": "execute_result"
    }
   ],
   "source": [
    "values = targeData.values\n",
    "values.shape"
   ]
  },
  {
   "cell_type": "code",
   "execution_count": 4,
   "metadata": {},
   "outputs": [
    {
     "data": {
      "text/plain": [
       "numpy.ndarray"
      ]
     },
     "execution_count": 4,
     "metadata": {},
     "output_type": "execute_result"
    }
   ],
   "source": [
    "type(values)"
   ]
  },
  {
   "cell_type": "code",
   "execution_count": 5,
   "metadata": {},
   "outputs": [
    {
     "data": {
      "text/plain": [
       "array([58, 44, 33, ..., 72, 57, 37], dtype=int64)"
      ]
     },
     "execution_count": 5,
     "metadata": {},
     "output_type": "execute_result"
    }
   ],
   "source": [
    "age = values[:,0]\n",
    "age"
   ]
  },
  {
   "cell_type": "code",
   "execution_count": 6,
   "metadata": {},
   "outputs": [
    {
     "data": {
      "text/plain": [
       "<tf.Tensor: shape=(), dtype=int64, numpy=1>"
      ]
     },
     "execution_count": 6,
     "metadata": {},
     "output_type": "execute_result"
    }
   ],
   "source": [
    "import tensorflow as tf\n",
    "tf.constant(1,dtype=tf.int64)"
   ]
  },
  {
   "cell_type": "code",
   "execution_count": 7,
   "metadata": {},
   "outputs": [
    {
     "data": {
      "text/plain": [
       "'/job:localhost/replica:0/task:0/device:GPU:0'"
      ]
     },
     "execution_count": 7,
     "metadata": {},
     "output_type": "execute_result"
    }
   ],
   "source": [
    "a = tf.constant([1,2,4])\n",
    "a.device"
   ]
  },
  {
   "cell_type": "code",
   "execution_count": 8,
   "metadata": {},
   "outputs": [
    {
     "name": "stdout",
     "output_type": "stream",
     "text": [
      "WARNING:tensorflow:From C:\\Users\\wangcong\\AppData\\Local\\Temp\\ipykernel_9160\\4163173086.py:1: _EagerTensorBase.cpu (from tensorflow.python.framework.ops) is deprecated and will be removed in a future version.\n",
      "Instructions for updating:\n",
      "Use tf.identity instead.\n"
     ]
    }
   ],
   "source": [
    "b = a.cpu()"
   ]
  },
  {
   "cell_type": "code",
   "execution_count": 9,
   "metadata": {},
   "outputs": [
    {
     "data": {
      "text/plain": [
       "'/job:localhost/replica:0/task:0/device:CPU:0'"
      ]
     },
     "execution_count": 9,
     "metadata": {},
     "output_type": "execute_result"
    }
   ],
   "source": [
    "b.device"
   ]
  },
  {
   "cell_type": "code",
   "execution_count": 10,
   "metadata": {},
   "outputs": [
    {
     "data": {
      "text/plain": [
       "1"
      ]
     },
     "execution_count": 10,
     "metadata": {},
     "output_type": "execute_result"
    }
   ],
   "source": [
    "a.ndim\n"
   ]
  },
  {
   "cell_type": "code",
   "execution_count": 11,
   "metadata": {},
   "outputs": [
    {
     "data": {
      "text/plain": [
       "0"
      ]
     },
     "execution_count": 11,
     "metadata": {},
     "output_type": "execute_result"
    }
   ],
   "source": [
    "b = tf.constant(2)\n",
    "b.ndim"
   ]
  },
  {
   "cell_type": "code",
   "execution_count": 12,
   "metadata": {},
   "outputs": [
    {
     "data": {
      "text/plain": [
       "<tf.Tensor: shape=(), dtype=int32, numpy=1>"
      ]
     },
     "execution_count": 12,
     "metadata": {},
     "output_type": "execute_result"
    }
   ],
   "source": [
    "tf.rank(a)"
   ]
  },
  {
   "cell_type": "code",
   "execution_count": 13,
   "metadata": {},
   "outputs": [],
   "source": [
    "tf.convert_to_tensor(age,dtype=tf.int32)\n",
    "tf.cast(a,tf.bool)\n",
    "b = tf.Variable(a,name=\"xx\")"
   ]
  },
  {
   "cell_type": "code",
   "execution_count": 14,
   "metadata": {},
   "outputs": [
    {
     "data": {
      "text/plain": [
       "<tf.Tensor: shape=(2, 3), dtype=float32, numpy=\n",
       "array([[1., 1., 1.],\n",
       "       [1., 1., 1.]], dtype=float32)>"
      ]
     },
     "execution_count": 14,
     "metadata": {},
     "output_type": "execute_result"
    }
   ],
   "source": [
    "tf.is_tensor(b)\n",
    "c = tf.ones([2,3])\n",
    "c"
   ]
  },
  {
   "cell_type": "markdown",
   "metadata": {},
   "source": [
    "#### 第一次学习笔记\n",
    "tensorflow 的数据类型 int , float , string , bool  \n",
    "数据形式    标量 向量 矩阵 Tensor（张量）  \n",
    "numpy -> tensor : tf.convert_to_tensor(numpy)  \n",
    "tensor -> numpy : tf_v.numpy()  \n",
    "计算引擎的切换：tf_v.cpu() tf_v.gpu()  \n",
    "查看计算引擎：tf_v.device \n",
    "判断是否是tensor tf.is_tensor(tf_v)  \n",
    "将变量赋给可求导的性质： tf.Variable(tf_v)  \n",
    "tensor 类型转换：tf.cast(tf_v)"
   ]
  },
  {
   "cell_type": "markdown",
   "metadata": {},
   "source": [
    "# tensor的创建"
   ]
  },
  {
   "cell_type": "code",
   "execution_count": 15,
   "metadata": {},
   "outputs": [
    {
     "data": {
      "text/plain": [
       "<tf.Tensor: shape=(3,), dtype=int32, numpy=array([1, 2, 4])>"
      ]
     },
     "execution_count": 15,
     "metadata": {},
     "output_type": "execute_result"
    }
   ],
   "source": [
    "# 1.从numpy，列表装换\n",
    "a = tf.convert_to_tensor(age,dtype=tf.int32)\n",
    "tf.convert_to_tensor([1,2,4])"
   ]
  },
  {
   "cell_type": "code",
   "execution_count": 16,
   "metadata": {},
   "outputs": [
    {
     "data": {
      "text/plain": [
       "<tf.Tensor: shape=(45211,), dtype=int32, numpy=array([1, 1, 1, ..., 1, 1, 1])>"
      ]
     },
     "execution_count": 16,
     "metadata": {},
     "output_type": "execute_result"
    }
   ],
   "source": [
    "# 2. tf.ones()、tf.zeros()、tf.ones_like()\n",
    "tf.ones([2,4])\n",
    "tf.ones_like(a)"
   ]
  },
  {
   "cell_type": "code",
   "execution_count": 17,
   "metadata": {},
   "outputs": [
    {
     "data": {
      "text/plain": [
       "<tf.Tensor: shape=(2, 4), dtype=int32, numpy=\n",
       "array([[7, 7, 7, 7],\n",
       "       [7, 7, 7, 7]])>"
      ]
     },
     "execution_count": 17,
     "metadata": {},
     "output_type": "execute_result"
    }
   ],
   "source": [
    "# 3.tf.fill(num)\n",
    "tf.fill([2,4],7)"
   ]
  },
  {
   "cell_type": "code",
   "execution_count": 18,
   "metadata": {},
   "outputs": [
    {
     "data": {
      "text/plain": [
       "<tf.Tensor: shape=(1,), dtype=float32, numpy=array([0.5167849], dtype=float32)>"
      ]
     },
     "execution_count": 18,
     "metadata": {},
     "output_type": "execute_result"
    }
   ],
   "source": [
    "# 4. tf.random.normal()\n",
    "tf.random.normal([3,1],mean=9,stddev=34) #正态分布\n",
    "tf.random.truncated_normal([3,5])#缺省正态分布\n",
    "tf.random.uniform([1])\n",
    "# mean 均值 stddev 方差"
   ]
  },
  {
   "cell_type": "code",
   "execution_count": 19,
   "metadata": {},
   "outputs": [
    {
     "data": {
      "text/plain": [
       "<tf.Tensor: shape=(30,), dtype=int32, numpy=\n",
       "array([ 0,  1,  2,  3,  4,  5,  6,  7,  8,  9, 10, 11, 12, 13, 14, 15, 16,\n",
       "       17, 18, 19, 20, 21, 22, 23, 24, 25, 26, 27, 28, 29])>"
      ]
     },
     "execution_count": 19,
     "metadata": {},
     "output_type": "execute_result"
    }
   ],
   "source": [
    "tf.random.shuffle(a)#打散数据顺序\n",
    "tf.range(30)"
   ]
  },
  {
   "cell_type": "code",
   "execution_count": 20,
   "metadata": {},
   "outputs": [
    {
     "data": {
      "text/plain": [
       "<tf.Tensor: shape=(45211, 4), dtype=float32, numpy=\n",
       "array([[0., 0., 0., 0.],\n",
       "       [0., 0., 0., 0.],\n",
       "       [0., 0., 0., 0.],\n",
       "       ...,\n",
       "       [0., 0., 0., 0.],\n",
       "       [0., 0., 0., 0.],\n",
       "       [0., 0., 0., 0.]], dtype=float32)>"
      ]
     },
     "execution_count": 20,
     "metadata": {},
     "output_type": "execute_result"
    }
   ],
   "source": [
    "# 5 tf.constant()\n",
    "tf.constant(1)\n",
    "tf.one_hot(a,depth=4)"
   ]
  },
  {
   "cell_type": "markdown",
   "metadata": {},
   "source": [
    "tensor 的索引 类似numpy"
   ]
  },
  {
   "cell_type": "code",
   "execution_count": 21,
   "metadata": {},
   "outputs": [
    {
     "data": {
      "text/plain": [
       "TensorShape([4, 4])"
      ]
     },
     "execution_count": 21,
     "metadata": {},
     "output_type": "execute_result"
    }
   ],
   "source": [
    "c = tf.random.normal([2,4,4,3])\n",
    "c[1,...,2].shape"
   ]
  },
  {
   "cell_type": "code",
   "execution_count": 22,
   "metadata": {},
   "outputs": [
    {
     "name": "stdout",
     "output_type": "stream",
     "text": [
      "tf.Tensor([58 44 33 ... 72 57 37], shape=(45211,), dtype=int32)\n"
     ]
    },
    {
     "data": {
      "text/plain": [
       "<tf.Tensor: shape=(2, 3), dtype=float32, numpy=\n",
       "array([[ 0.9964216 , -0.67229414, -0.51058036],\n",
       "       [ 0.73131406,  0.5801674 ,  0.35288784]], dtype=float32)>"
      ]
     },
     "execution_count": 22,
     "metadata": {},
     "output_type": "execute_result"
    }
   ],
   "source": [
    "# tf.gather() 获取对应索引的数据\n",
    "print(a)\n",
    "tf.gather(a,[4,6,8])\n",
    "tf.gather_nd(c,[[0,3,2],[1,2,1]])"
   ]
  },
  {
   "cell_type": "code",
   "execution_count": 23,
   "metadata": {},
   "outputs": [
    {
     "data": {
      "text/plain": [
       "<tf.Tensor: shape=(45211,), dtype=int32, numpy=array([58, 44, 33, ..., 72, 57, 37])>"
      ]
     },
     "execution_count": 23,
     "metadata": {},
     "output_type": "execute_result"
    }
   ],
   "source": [
    "a"
   ]
  },
  {
   "cell_type": "code",
   "execution_count": 24,
   "metadata": {},
   "outputs": [
    {
     "data": {
      "text/plain": [
       "<tf.Tensor: shape=(2, 4, 4, 3), dtype=float32, numpy=\n",
       "array([[[[-1.6268964 , -2.1943343 ,  0.16371147],\n",
       "         [ 0.11621902, -1.5499362 ,  0.04563286],\n",
       "         [ 0.6226493 ,  1.6969109 ,  0.8755367 ],\n",
       "         [-0.73203737,  0.37484327, -0.27630177]],\n",
       "\n",
       "        [[-0.3344262 , -0.85191035, -2.3923826 ],\n",
       "         [ 0.3114224 , -0.46554372,  0.31639242],\n",
       "         [ 0.27826646,  0.79432124,  0.3077332 ],\n",
       "         [-1.757361  , -0.22255206,  0.4695146 ]],\n",
       "\n",
       "        [[ 0.03856628, -0.79253274,  0.77489245],\n",
       "         [-0.05838043, -0.9735868 , -1.3132868 ],\n",
       "         [-0.18005624,  0.3659029 , -0.20215082],\n",
       "         [-0.44372323,  0.7908554 , -0.42326942]],\n",
       "\n",
       "        [[ 0.5356755 ,  0.11547382,  0.4117342 ],\n",
       "         [-0.6490017 , -0.56551456,  0.02401321],\n",
       "         [ 0.9964216 , -0.67229414, -0.51058036],\n",
       "         [ 1.1065115 ,  0.22338542, -1.0100578 ]]],\n",
       "\n",
       "\n",
       "       [[[-0.27900982, -0.29620433, -0.3729558 ],\n",
       "         [ 0.49740484, -2.459857  ,  0.44263387],\n",
       "         [-1.713421  ,  1.6335077 , -0.14561388],\n",
       "         [-1.7777554 ,  0.02871322,  0.60463285]],\n",
       "\n",
       "        [[ 0.33943206,  0.66184545,  0.6132631 ],\n",
       "         [-0.9165179 ,  0.25578156,  0.56265616],\n",
       "         [-1.6512975 ,  0.9340189 ,  0.10038228],\n",
       "         [ 0.5674119 , -0.8062354 ,  1.3201003 ]],\n",
       "\n",
       "        [[ 1.2875904 ,  0.33055964, -0.27557847],\n",
       "         [ 0.73131406,  0.5801674 ,  0.35288784],\n",
       "         [ 0.6330618 , -1.0271704 , -0.27554685],\n",
       "         [-0.89820606, -0.45865667,  0.42374212]],\n",
       "\n",
       "        [[ 0.2778733 , -0.5052403 , -0.45897454],\n",
       "         [-0.17057501, -0.39802045, -1.2743962 ],\n",
       "         [-0.50463825, -0.9562894 ,  2.3157437 ],\n",
       "         [-0.29086518,  0.24566333, -0.24496876]]]], dtype=float32)>"
      ]
     },
     "execution_count": 24,
     "metadata": {},
     "output_type": "execute_result"
    }
   ],
   "source": [
    "c"
   ]
  },
  {
   "cell_type": "code",
   "execution_count": 25,
   "metadata": {},
   "outputs": [],
   "source": [
    "b  =tf.random.truncated_normal([3,2])\n",
    "c = tf.random.truncated_normal([4,28,28])\n",
    "d = tf.random.truncated_normal([4,28,28,3])"
   ]
  },
  {
   "cell_type": "code",
   "execution_count": 26,
   "metadata": {},
   "outputs": [
    {
     "data": {
      "text/plain": [
       "(4, TensorShape([4, 28, 28, 3]))"
      ]
     },
     "execution_count": 26,
     "metadata": {},
     "output_type": "execute_result"
    }
   ],
   "source": [
    "d.ndim,d.shape"
   ]
  },
  {
   "cell_type": "markdown",
   "metadata": {},
   "source": [
    "tensor 的转置、合并维度、分解维度  "
   ]
  },
  {
   "cell_type": "code",
   "execution_count": 27,
   "metadata": {},
   "outputs": [
    {
     "data": {
      "text/plain": [
       "<tf.Tensor: shape=(4, 1, 784, 3), dtype=float32, numpy=\n",
       "array([[[[ 0.5885791 , -0.33980185,  0.8102548 ],\n",
       "         [ 1.8819001 , -1.489278  , -0.10610389],\n",
       "         [ 0.17691894,  0.69716513, -0.97397256],\n",
       "         ...,\n",
       "         [ 0.3833606 ,  0.5908952 , -0.6165003 ],\n",
       "         [ 0.54759157, -0.6472085 , -1.8266704 ],\n",
       "         [ 1.2111386 , -0.1268781 ,  0.8939801 ]]],\n",
       "\n",
       "\n",
       "       [[[ 0.20543364,  0.51426053, -0.7491373 ],\n",
       "         [-0.11517053,  0.10298555,  1.3760223 ],\n",
       "         [-1.146881  , -1.09452   ,  0.09008617],\n",
       "         ...,\n",
       "         [ 1.5542593 ,  1.2437155 , -0.33828852],\n",
       "         [ 1.1372588 , -0.62230504, -0.63943356],\n",
       "         [ 0.70115626, -0.46441382, -0.4942298 ]]],\n",
       "\n",
       "\n",
       "       [[[-0.6450653 ,  0.0805684 ,  1.2589258 ],\n",
       "         [-0.24740686,  0.73125374, -0.52329594],\n",
       "         [-0.47175342, -1.0022981 ,  0.4821777 ],\n",
       "         ...,\n",
       "         [-0.1965436 , -1.3237876 ,  0.48404643],\n",
       "         [-0.13269305,  1.0323375 , -0.543635  ],\n",
       "         [-0.32985532,  1.0745317 , -0.6469443 ]]],\n",
       "\n",
       "\n",
       "       [[[ 0.10956206,  0.491311  ,  1.382392  ],\n",
       "         [-0.43548805,  1.3237985 , -0.1376813 ],\n",
       "         [ 0.8919768 ,  0.5088125 , -0.965908  ],\n",
       "         ...,\n",
       "         [-0.23002812, -0.9521172 ,  1.6055828 ],\n",
       "         [ 0.21978025, -0.277177  ,  0.85975856],\n",
       "         [ 0.12879896, -0.9452079 ,  1.6062516 ]]]], dtype=float32)>"
      ]
     },
     "execution_count": 27,
     "metadata": {},
     "output_type": "execute_result"
    }
   ],
   "source": [
    "tf.reshape(d,[4,1,-1,3])#合并维度"
   ]
  },
  {
   "cell_type": "code",
   "execution_count": 28,
   "metadata": {},
   "outputs": [
    {
     "data": {
      "text/plain": [
       "TensorShape([28, 3, 28, 4])"
      ]
     },
     "execution_count": 28,
     "metadata": {},
     "output_type": "execute_result"
    }
   ],
   "source": [
    "tf.transpose(d,perm=[2,3,1,0]).shape #转置"
   ]
  },
  {
   "cell_type": "code",
   "execution_count": 29,
   "metadata": {},
   "outputs": [
    {
     "data": {
      "text/plain": [
       "TensorShape([4, 14, 2, 28, 3])"
      ]
     },
     "execution_count": 29,
     "metadata": {},
     "output_type": "execute_result"
    }
   ],
   "source": [
    "tf.reshape(d,[4,14,2,28,3]).shape"
   ]
  },
  {
   "cell_type": "markdown",
   "metadata": {},
   "source": [
    "添加维度和删除维度"
   ]
  },
  {
   "cell_type": "code",
   "execution_count": 30,
   "metadata": {},
   "outputs": [
    {
     "data": {
      "text/plain": [
       "TensorShape([4, 1, 28, 28])"
      ]
     },
     "execution_count": 30,
     "metadata": {},
     "output_type": "execute_result"
    }
   ],
   "source": [
    "tf.expand_dims(c,axis=1).shape#添加一个维度为1的维度"
   ]
  },
  {
   "cell_type": "code",
   "execution_count": 31,
   "metadata": {},
   "outputs": [
    {
     "data": {
      "text/plain": [
       "TensorShape([2, 3, 1])"
      ]
     },
     "execution_count": 31,
     "metadata": {},
     "output_type": "execute_result"
    }
   ],
   "source": [
    "tf.squeeze(tf.ones([1,2,3,1]),axis=0).shape#删除维度为1的维度"
   ]
  },
  {
   "cell_type": "markdown",
   "metadata": {},
   "source": [
    "broadcast"
   ]
  },
  {
   "cell_type": "markdown",
   "metadata": {},
   "source": [
    "数学运算"
   ]
  },
  {
   "cell_type": "code",
   "execution_count": 32,
   "metadata": {},
   "outputs": [
    {
     "data": {
      "text/plain": [
       "<tf.Tensor: shape=(3, 2), dtype=float32, numpy=\n",
       "array([[ 0.6654062 , -1.254611  ],\n",
       "       [-1.0557152 ,  1.2842488 ],\n",
       "       [ 0.67325777,  0.18708399]], dtype=float32)>"
      ]
     },
     "execution_count": 32,
     "metadata": {},
     "output_type": "execute_result"
    }
   ],
   "source": [
    "b"
   ]
  },
  {
   "cell_type": "code",
   "execution_count": 33,
   "metadata": {},
   "outputs": [],
   "source": [
    "b1 = tf.random.truncated_normal([2,4])"
   ]
  },
  {
   "cell_type": "code",
   "execution_count": 34,
   "metadata": {},
   "outputs": [
    {
     "data": {
      "text/plain": [
       "(<tf.Tensor: shape=(2, 4), dtype=float32, numpy=\n",
       " array([[ 0.09191087, -0.7498342 ,  0.546263  , -2.007958  ],\n",
       "        [-1.4404923 , -3.2639353 , -3.064854  ,  0.3970158 ]],\n",
       "       dtype=float32)>,\n",
       " <tf.Tensor: shape=(2, 4), dtype=float32, numpy=\n",
       " array([[0., 0., 0., 0.],\n",
       "        [0., 0., 0., 0.]], dtype=float32)>,\n",
       " <tf.Tensor: shape=(2, 4), dtype=float32, numpy=\n",
       " array([[2.1119020e-03, 1.4056283e-01, 7.4600808e-02, 1.0079738e+00],\n",
       "        [5.1875448e-01, 2.6633184e+00, 2.3483324e+00, 3.9405387e-02]],\n",
       "       dtype=float32)>)"
      ]
     },
     "execution_count": 34,
     "metadata": {},
     "output_type": "execute_result"
    }
   ],
   "source": [
    "b1+b1,b1-b1,b1**2"
   ]
  },
  {
   "cell_type": "code",
   "execution_count": 35,
   "metadata": {},
   "outputs": [
    {
     "data": {
      "text/plain": [
       "(<tf.Tensor: shape=(3, 2), dtype=float32, numpy=\n",
       " array([[-0.40735757,         nan],\n",
       "        [        nan,  0.250174  ],\n",
       "        [-0.39562702, -1.6761976 ]], dtype=float32)>,\n",
       " <tf.Tensor: shape=(3, 2), dtype=float32, numpy=\n",
       " array([[1.9452806 , 0.28518677],\n",
       "        [0.34794348, 3.6119537 ],\n",
       "        [1.9606141 , 1.2057285 ]], dtype=float32)>,\n",
       " <tf.Tensor: shape=(3, 4), dtype=float32, numpy=\n",
       " array([[ 0.93420774,  1.7980125 ,  2.1043432 , -0.91710407],\n",
       "        [-0.97349113, -1.7000469 , -2.2563667 ,  1.3148494 ],\n",
       "        [-0.10380667, -0.55773085, -0.10280466, -0.638799  ]],\n",
       "       dtype=float32)>,\n",
       " <tf.Tensor: shape=(3, 2), dtype=float32, numpy=\n",
       " array([[0.99999994, 1.        ],\n",
       "        [1.        , 1.        ],\n",
       "        [1.        , 1.        ]], dtype=float32)>,\n",
       " <tf.Tensor: shape=(3, 2), dtype=float32, numpy=\n",
       " array([[0.2632651 , 0.03859583],\n",
       "        [0.04708903, 0.48882478],\n",
       "        [0.26534027, 0.16317761]], dtype=float32)>)"
      ]
     },
     "execution_count": 35,
     "metadata": {},
     "output_type": "execute_result"
    }
   ],
   "source": [
    "tf.math.log(b),tf.exp(b),b@b1,b**(-1)*b,tf.exp(b)/tf.exp(tf.constant([[2,2],[2,2],[2,2]],dtype='float'))\n"
   ]
  }
 ],
 "metadata": {
  "kernelspec": {
   "display_name": "Python 3.9.11 ('base')",
   "language": "python",
   "name": "python3"
  },
  "language_info": {
   "codemirror_mode": {
    "name": "ipython",
    "version": 3
   },
   "file_extension": ".py",
   "mimetype": "text/x-python",
   "name": "python",
   "nbconvert_exporter": "python",
   "pygments_lexer": "ipython3",
   "version": "3.9.11"
  },
  "orig_nbformat": 4,
  "vscode": {
   "interpreter": {
    "hash": "88279d2366fe020547cde40dd65aa0e3aa662a6ec1f3ca12d88834876c85e1a6"
   }
  }
 },
 "nbformat": 4,
 "nbformat_minor": 2
}
